{
 "cells": [
  {
   "cell_type": "markdown",
   "id": "8feee56b",
   "metadata": {},
   "source": [
    "Jupiter (или IPython в прошлом) - инструмент, в котором можно записывать код на ввод, и сразу получать вывод, при этом дополняя все комментариями. То, что можно разделять все по ячейкам, позволяет повысить читаемость записей."
   ]
  },
  {
   "cell_type": "markdown",
   "id": "0c220bfd",
   "metadata": {},
   "source": [
    "Быстрые команды, которые я выделил для себя, чтоб проще работать здесь:\n",
    "b - создать новую ячейку\n",
    "x - удалить выбранную ячейку (через shift можно выделить несколько)\n",
    "z - отмена последнего удаления\n",
    "m - перевести ячейку в режим комментариев (markdown)\n",
    "y - перевести ячейку в режим кода\n",
    "Shift + Enter - быстрый запуск ячейки с кодом"
   ]
  },
  {
   "cell_type": "markdown",
   "id": "f0a55da4",
   "metadata": {},
   "source": [
    "Разные блоки тетради не сепаратны, инициализировав переменную в одном месте, можно ее использовать в другом"
   ]
  },
  {
   "cell_type": "markdown",
   "id": "61044d79",
   "metadata": {},
   "source": [
    "Стандартные арифметические функции в python:"
   ]
  },
  {
   "cell_type": "code",
   "execution_count": 2,
   "id": "6f5dfe1d",
   "metadata": {},
   "outputs": [
    {
     "name": "stdout",
     "output_type": "stream",
     "text": [
      "4\n",
      "5\n",
      "8\n",
      "7\n",
      "9\n"
     ]
    }
   ],
   "source": [
    "print (2 + 2)\n",
    "print (7 - 2)\n",
    "print (4 * 2)\n",
    "print (1 + 2 * 3)\n",
    "print ((1 + 2) * 3)"
   ]
  },
  {
   "cell_type": "code",
   "execution_count": 13,
   "id": "f8381f3e",
   "metadata": {},
   "outputs": [
    {
     "data": {
      "text/plain": [
       "12345554321"
      ]
     },
     "execution_count": 13,
     "metadata": {},
     "output_type": "execute_result"
    }
   ],
   "source": [
    "11111*1111111"
   ]
  },
  {
   "cell_type": "markdown",
   "id": "f8c33666",
   "metadata": {},
   "source": [
    "Возведение в степень:"
   ]
  },
  {
   "cell_type": "code",
   "execution_count": 15,
   "id": "7861f36f",
   "metadata": {},
   "outputs": [
    {
     "data": {
      "text/plain": [
       "8"
      ]
     },
     "execution_count": 15,
     "metadata": {},
     "output_type": "execute_result"
    }
   ],
   "source": [
    "2 ** 3"
   ]
  },
  {
   "cell_type": "markdown",
   "id": "863f1425",
   "metadata": {},
   "source": [
    "Получение квадратного корня:"
   ]
  },
  {
   "cell_type": "code",
   "execution_count": 26,
   "id": "30dd27d4",
   "metadata": {},
   "outputs": [
    {
     "data": {
      "text/plain": [
       "3.0"
      ]
     },
     "execution_count": 26,
     "metadata": {},
     "output_type": "execute_result"
    }
   ],
   "source": [
    "9 ** 0.5"
   ]
  },
  {
   "cell_type": "markdown",
   "id": "751e520c",
   "metadata": {},
   "source": [
    "Деление - вещественное, целочисленное, и по модулю:"
   ]
  },
  {
   "cell_type": "code",
   "execution_count": 16,
   "id": "cffaa81b",
   "metadata": {},
   "outputs": [
    {
     "name": "stdout",
     "output_type": "stream",
     "text": [
      "3.5\n",
      "3\n",
      "1\n"
     ]
    }
   ],
   "source": [
    "print (7 / 2)\n",
    "print (7 // 2)\n",
    "print (7 % 2)"
   ]
  },
  {
   "cell_type": "code",
   "execution_count": 22,
   "id": "74d60223",
   "metadata": {},
   "outputs": [
    {
     "data": {
      "text/plain": [
       "-2"
      ]
     },
     "execution_count": 22,
     "metadata": {},
     "output_type": "execute_result"
    }
   ],
   "source": [
    "- (2) #небинарные операции, смена знака у числа"
   ]
  },
  {
   "cell_type": "markdown",
   "id": "9d6ec6d1",
   "metadata": {},
   "source": [
    "Особенность работы с вещественными числами - присутствие погрешности:"
   ]
  },
  {
   "cell_type": "code",
   "execution_count": 24,
   "id": "2ca86744",
   "metadata": {},
   "outputs": [
    {
     "name": "stdout",
     "output_type": "stream",
     "text": [
      "0.8999999999999999\n"
     ]
    }
   ],
   "source": [
    "print (0.3 + 0.3 + 0.3)"
   ]
  },
  {
   "cell_type": "markdown",
   "id": "664b6319",
   "metadata": {},
   "source": [
    "Использование e в операциях\n",
    "5e-1 можно расшифровать как 5 * 10 ** -1, то есть, 0.5\n",
    "Таким образом, e это * 10 **\n",
    "Стоит помнить, что в математике отрицательная степень отодвигает плавающую точку на один символ влево (в случае с -1 степенью)"
   ]
  },
  {
   "cell_type": "code",
   "execution_count": 28,
   "id": "82680dca",
   "metadata": {},
   "outputs": [
    {
     "name": "stdout",
     "output_type": "stream",
     "text": [
      "12.34\n"
     ]
    }
   ],
   "source": [
    "print (1234e-2)"
   ]
  },
  {
   "cell_type": "code",
   "execution_count": 3,
   "id": "a5bb79c9",
   "metadata": {},
   "outputs": [
    {
     "name": "stdout",
     "output_type": "stream",
     "text": [
      "123400.0\n"
     ]
    }
   ],
   "source": [
    "print (1234e2)"
   ]
  },
  {
   "cell_type": "markdown",
   "id": "853d93a3",
   "metadata": {},
   "source": [
    "Типы данных:\n",
    "int - целочисленные\n",
    "float - вещественные\n",
    "bool - логические\n",
    "str - строковые"
   ]
  },
  {
   "cell_type": "markdown",
   "id": "06ca19d2",
   "metadata": {},
   "source": [
    "Приведение типов:"
   ]
  },
  {
   "cell_type": "code",
   "execution_count": 2,
   "id": "0b2d6f7c",
   "metadata": {},
   "outputs": [
    {
     "name": "stdout",
     "output_type": "stream",
     "text": [
      "2\n"
     ]
    }
   ],
   "source": [
    "var = 2.6 #вещественный тип\n",
    "print(int(var)) #отсекается часть после точки"
   ]
  },
  {
   "cell_type": "code",
   "execution_count": 3,
   "id": "138dc57f",
   "metadata": {},
   "outputs": [
    {
     "data": {
      "text/plain": [
       "89"
      ]
     },
     "execution_count": 3,
     "metadata": {},
     "output_type": "execute_result"
    }
   ],
   "source": [
    "9**19 - int(float(9**19)) #важно не забывать о погрешности при работе с большими числами"
   ]
  },
  {
   "cell_type": "code",
   "execution_count": 7,
   "id": "1845f53a",
   "metadata": {},
   "outputs": [
    {
     "data": {
      "text/plain": [
       "int"
      ]
     },
     "execution_count": 7,
     "metadata": {},
     "output_type": "execute_result"
    }
   ],
   "source": [
    "type(1) #узнать тип данных объекта можно так"
   ]
  },
  {
   "cell_type": "markdown",
   "id": "48a52279",
   "metadata": {},
   "source": [
    "Переменные:"
   ]
  },
  {
   "cell_type": "markdown",
   "id": "6e45716c",
   "metadata": {},
   "source": [
    "Правила наименования переменных:\n",
    "- могут содержать буквы любого регистра, цифры и _\n",
    "- не могут начинаться с цифр\n",
    "- не могут называться также, как ключевые слова и встроенные переменные\n",
    "- буквы разных регистров различаются языком"
   ]
  },
  {
   "cell_type": "code",
   "execution_count": 8,
   "id": "a0f57406",
   "metadata": {},
   "outputs": [],
   "source": [
    "a = 1 #присваивание (оператор присваивания не симметричен, переменная всегда слева)\n",
    "a = 2 #переназначение\n",
    "a = a + 1 #упоминание самого объекта для изменений его содержимого\n",
    "a1, a2, a3 = 1, 2, 1 #объявление сразу нескольких переменных"
   ]
  },
  {
   "cell_type": "markdown",
   "id": "5fa1174f",
   "metadata": {},
   "source": [
    "Операторы приращения:"
   ]
  },
  {
   "cell_type": "code",
   "execution_count": 9,
   "id": "2b93994f",
   "metadata": {},
   "outputs": [],
   "source": [
    "a += 1 #то же самое, что и a = a + 1\n",
    "a -= 1\n",
    "a *= 1\n",
    "a /= 1\n",
    "a //= 1\n",
    "a %= 1\n",
    "a **= 1"
   ]
  },
  {
   "cell_type": "code",
   "execution_count": 10,
   "id": "0f2e72c7",
   "metadata": {},
   "outputs": [],
   "source": [
    "a = 1\n",
    "a = 1.0\n",
    "a = 'abc'\n",
    "#в языке динамическая типизация, потому переменная может менять свой тип при присваивании"
   ]
  },
  {
   "cell_type": "markdown",
   "id": "852c3748",
   "metadata": {},
   "source": [
    "Ввод данных:"
   ]
  },
  {
   "cell_type": "code",
   "execution_count": 12,
   "id": "7dfaa017",
   "metadata": {},
   "outputs": [
    {
     "name": "stdout",
     "output_type": "stream",
     "text": [
      "1\n"
     ]
    }
   ],
   "source": [
    "input('Подсказка пользователю, что вводить, можно без нее') #функция принимает ввод с клавиатуры\n",
    "a = input()\n",
    "a, b = input().split() #с этим методом можно вводить значения в одну строку через любой разделитель\n",
    "\n",
    "print(int(a)) #тип данных, вводимых с клавиатуры, по умолчанию str, потому для математических операций нужно его конвертировать в int\n",
    "int(input()) #таким образом, можно привести ввод сразу к нужному типу"
   ]
  },
  {
   "cell_type": "markdown",
   "id": "3a22d067",
   "metadata": {},
   "source": [
    "Логические значения и операции:"
   ]
  },
  {
   "cell_type": "markdown",
   "id": "797696b2",
   "metadata": {},
   "source": [
    "False = 0\n",
    "True = 1\n",
    "x or y - истина, если истинны либо x, либо y\n",
    "x and y - истина, если оба истинны\n",
    "not x - истина, если x ложна\n",
    "Сначала вычисляется not, потом and, и в конце or (если не использовать скобки)"
   ]
  },
  {
   "cell_type": "markdown",
   "id": "78f4a7a7",
   "metadata": {},
   "source": [
    "Операции сравнения:"
   ]
  },
  {
   "cell_type": "code",
   "execution_count": null,
   "id": "8eaba729",
   "metadata": {},
   "outputs": [],
   "source": [
    "a > 1\n",
    "a >= 1\n",
    "a < 1\n",
    "a <= 1\n",
    "a == 1 #равно\n",
    "a != 1 #не равно\n",
    "1 <= a <= 10 #проверка промежутка, если a это число от 1 до 10, то истина"
   ]
  },
  {
   "cell_type": "markdown",
   "id": "10273b90",
   "metadata": {},
   "source": [
    "Условия:"
   ]
  },
  {
   "cell_type": "code",
   "execution_count": null,
   "id": "c93ec651",
   "metadata": {},
   "outputs": [],
   "source": [
    "#Проверка на четность числа\n",
    "if a % 2 == 0: #не забываем :\n",
    "    print('Четное') #команды для истинности условия, 4 пробела оступ\n",
    "elif a != int: #дополнительное условие, их может быть сколько угодно, но если одно из них истинно, другие выполняться уже не будут\n",
    "    print('Не число')\n",
    "else:\n",
    "    print('Нечетное') #команды для ложности условия\n",
    "\n",
    "#это можно будет делать циклом ниже, либо проверкой на четность в цикле, либо проверкой на четность первого числа (если проверка не пройдена, можно добавить 1, получим нужное) перед циклом"
   ]
  },
  {
   "cell_type": "markdown",
   "id": "162842f9",
   "metadata": {},
   "source": [
    "Строки:"
   ]
  },
  {
   "cell_type": "code",
   "execution_count": 27,
   "id": "58a2d08b",
   "metadata": {},
   "outputs": [
    {
     "name": "stdout",
     "output_type": "stream",
     "text": [
      "Первая строка\n",
      "Вторая\n"
     ]
    }
   ],
   "source": [
    "'string'\n",
    "\"string\"\n",
    "'''длинная строка\n",
    "на несколько\n",
    "физических строк''' #либо двойными кавычками 6 штук\n",
    "\n",
    "print('Первая строка\\nВторая') #\\n - символ переноса строки"
   ]
  },
  {
   "cell_type": "markdown",
   "id": "c72c49ca",
   "metadata": {},
   "source": [
    "Конкатенация строк:"
   ]
  },
  {
   "cell_type": "code",
   "execution_count": null,
   "id": "1ffb2cee",
   "metadata": {},
   "outputs": [],
   "source": [
    "'abc' + 'zxc' #abczxc\n",
    "'abc' * 3 #abcabcabc\n",
    "len('abcd') #функция считает количество символов в строке - 4"
   ]
  },
  {
   "cell_type": "markdown",
   "id": "909cabd9",
   "metadata": {},
   "source": [
    "Сравнение строк:"
   ]
  },
  {
   "cell_type": "code",
   "execution_count": null,
   "id": "048fe01a",
   "metadata": {},
   "outputs": [],
   "source": [
    "'abc' == 'abc' #True\n",
    "'abc' < 'ac' #True, идет поиск различий в символах, а одинаковы, а во втором символе c идет дальше по алфавиту, чем b, потому вторая строка будет больше\n",
    "'abc' > 'ab' #True, если все символы совпадают, но одна из строк длиннее, то она больше\n",
    "\n",
    "'''\n",
    "Это считается многострочным комментарием\n",
    "Хотя тут так не распознается\n",
    "'''"
   ]
  },
  {
   "cell_type": "markdown",
   "id": "5704a645",
   "metadata": {},
   "source": [
    "Интересные задачи из курса:"
   ]
  },
  {
   "cell_type": "code",
   "execution_count": 81,
   "id": "5cd69ff8",
   "metadata": {},
   "outputs": [
    {
     "name": "stdout",
     "output_type": "stream",
     "text": [
      "Счастливый\n"
     ]
    }
   ],
   "source": [
    "#про вычисление счастливого билета\n",
    "a = input()\n",
    "if int(a[0])+int(a[1])+int(a[2]) == int(a[3])+int(a[4])+int(a[5]): print('Счастливый')\n",
    "else: print('Обычный')"
   ]
  },
  {
   "cell_type": "markdown",
   "id": "fbd6de6d",
   "metadata": {},
   "source": [
    "Цикл while:"
   ]
  },
  {
   "cell_type": "code",
   "execution_count": 2,
   "id": "a479f3eb",
   "metadata": {},
   "outputs": [
    {
     "name": "stdout",
     "output_type": "stream",
     "text": [
      "5 4 3 2 1 "
     ]
    }
   ],
   "source": [
    "a = 5\n",
    "while a > 0: #для бесконечного можного while True:\n",
    "  print(a, end=' ') #таким образом, я меняю разделение значений, вместо новых строк они будут разделены пробелом, и все будет в одной строке\n",
    "  a -= 1"
   ]
  },
  {
   "cell_type": "markdown",
   "id": "00fe0fc2",
   "metadata": {},
   "source": [
    "break - досрочное прерывание цикла, например, когда иы ищем какой-то конкретный результат, находим его, и останавливаем поиск\n",
    "while\n",
    "break\n",
    "else - данная конструкция запускает код в else при условии, что break не сработал, и цикл прошел все итерации\n",
    "continue - досрочный переход на следующую итерацию цикла, например, когда нам нужно исключить какие-то определенные значения i из проверки"
   ]
  },
  {
   "cell_type": "markdown",
   "id": "2cdb1b36",
   "metadata": {},
   "source": [
    "Цикл for:"
   ]
  },
  {
   "cell_type": "code",
   "execution_count": 3,
   "id": "f287144f",
   "metadata": {},
   "outputs": [
    {
     "name": "stdout",
     "output_type": "stream",
     "text": [
      "4\n",
      "9\n",
      "25\n"
     ]
    }
   ],
   "source": [
    "for i in 2, 3, 5: #либо i in range(10) - от 0 до 10, не включая 10\n",
    "  print(i * i)"
   ]
  },
  {
   "cell_type": "code",
   "execution_count": 15,
   "id": "335b5d78",
   "metadata": {},
   "outputs": [
    {
     "name": "stdout",
     "output_type": "stream",
     "text": [
      "1 2 3 4\n"
     ]
    }
   ],
   "source": [
    "range(10) #от 0 10 без 10 с шагом 1\n",
    "range(10+1) #от 0 до 10 включительно\n",
    "range(2,5) #от 2 до 5 без 5 с шагом 1\n",
    "range(2,15,4) #от 2 до 15 без 15 с шагом 4\n",
    "print(*range(1,5)) #для print нужно поставить *"
   ]
  },
  {
   "cell_type": "markdown",
   "id": "583a45ab",
   "metadata": {},
   "source": [
    "Таблица умножения:"
   ]
  },
  {
   "cell_type": "code",
   "execution_count": 58,
   "id": "5fabe893",
   "metadata": {},
   "outputs": [
    {
     "name": "stdout",
     "output_type": "stream",
     "text": [
      "\t2\t3\t4\t\n",
      "1\t2\t3\t4\t\n",
      "2\t4\t6\t8\t\n",
      "3\t6\t9\t12\t\n"
     ]
    }
   ],
   "source": [
    "a = int(input())\n",
    "b = int(input())\n",
    "c = int(input())\n",
    "d = int(input())\n",
    "if a <= b <= 10 and c <= d < 10:\n",
    "    print('', end='\\t')\n",
    "    for k in range(c,d+1):\n",
    "      print(k, end='\\t')\n",
    "    print()\n",
    "    for i in range(a,b+1):\n",
    "        print(i, end='\\t')\n",
    "        for j in range(c,d+1):\n",
    "            print(i * j, end='\\t')\n",
    "        print()"
   ]
  },
  {
   "cell_type": "markdown",
   "id": "1b18c4bc",
   "metadata": {},
   "source": [
    "Простое решение задачи с таблицей умножения через *range:"
   ]
  },
  {
   "cell_type": "code",
   "execution_count": 60,
   "id": "85f96453",
   "metadata": {},
   "outputs": [
    {
     "name": "stdout",
     "output_type": "stream",
     "text": [
      "\t2\t3\t4\n",
      "1\t2\t3\t4\n",
      "2\t4\t6\t8\n",
      "3\t6\t9\t12\n"
     ]
    }
   ],
   "source": [
    "a=int(input())\n",
    "b=int(input())\n",
    "c=int(input())\n",
    "d=int(input())\n",
    "\n",
    "print('', *range(c, d+1), sep='\\t')\n",
    "for i in range(a,b+1):\n",
    "    print(i, *range(i*c,(i*d)+1, i), sep='\\t')"
   ]
  },
  {
   "cell_type": "markdown",
   "id": "95897fda",
   "metadata": {},
   "source": [
    "List comprehension или генерация списка:"
   ]
  },
  {
   "cell_type": "code",
   "execution_count": null,
   "id": "52206115",
   "metadata": {},
   "outputs": [],
   "source": [
    "a, b = (int(i) for i in input().split()) #применить функцию int для каждого числа последовательности, вводимой с клавиатуры одной строкой\n",
    "#синтаксис - применяемая функция к i, цикл for, сам промежуток"
   ]
  },
  {
   "cell_type": "markdown",
   "id": "776c8140",
   "metadata": {},
   "source": [
    "Нахождение среднего арифметического чисел в промежутке:"
   ]
  },
  {
   "cell_type": "code",
   "execution_count": 9,
   "id": "a73f7218",
   "metadata": {},
   "outputs": [
    {
     "name": "stdout",
     "output_type": "stream",
     "text": [
      "-3.0\n"
     ]
    }
   ],
   "source": [
    "a = int(input())\n",
    "b = int(input())\n",
    "s = 0\n",
    "c = 0\n",
    "\n",
    "for i in range(a,b+1):\n",
    "    if i % 3 == 0:\n",
    "        s += i\n",
    "        c += 1\n",
    "print(s / c)\n",
    "\n",
    "#оказывается, можно сделать это по формуле (a+b)/2, где a и b - начало и конец промежутка"
   ]
  },
  {
   "cell_type": "markdown",
   "id": "0b8ce8b7",
   "metadata": {},
   "source": [
    "Больше о строках:"
   ]
  },
  {
   "cell_type": "markdown",
   "id": "59298982",
   "metadata": {},
   "source": [
    "Обращение к конкретному символу строки:"
   ]
  },
  {
   "cell_type": "code",
   "execution_count": null,
   "id": "1288e3e5",
   "metadata": {},
   "outputs": [],
   "source": [
    "a[0] #это первый символ строки переменной a, второй - [1], и т.д., они представлены, как массивы\n",
    "a[-1] #это первый символ с конца\n",
    "for i in a: #вывод всех символов строки по порядку перебором строки\n",
    "  print(i)"
   ]
  },
  {
   "cell_type": "markdown",
   "id": "c1e85f1c",
   "metadata": {},
   "source": [
    "Методы строк:"
   ]
  },
  {
   "cell_type": "code",
   "execution_count": 16,
   "id": "9f7e3a09",
   "metadata": {},
   "outputs": [
    {
     "data": {
      "text/plain": [
       "'aTGPP'"
      ]
     },
     "execution_count": 16,
     "metadata": {},
     "output_type": "execute_result"
    }
   ],
   "source": [
    "s = 'aTGcc'\n",
    "p = 'cc'\n",
    "#методы не меняют самой строки, только вывод\n",
    "s.upper() #замена всех маленьких букв большими\n",
    "s.lower() #наоборот\n",
    "s.count(p) #посчитать, сколько раз переменная p встречается в s\n",
    "s.find(p) #найти позицию первого вхождения p в строке s (в данном случае cc начинается на позиции 3), если p в s нет, результат будет -1\n",
    "#для проверки вхождения строки в строку s лучше использовать if 'TG' in s:\n",
    "s.replace('c', 'P') #заменить все с в строке на Р"
   ]
  },
  {
   "cell_type": "markdown",
   "id": "688dc9ae",
   "metadata": {},
   "source": [
    "Последовательный вызов методов:"
   ]
  },
  {
   "cell_type": "code",
   "execution_count": 17,
   "id": "62a79ab9",
   "metadata": {},
   "outputs": [
    {
     "data": {
      "text/plain": [
       "2"
      ]
     },
     "execution_count": 17,
     "metadata": {},
     "output_type": "execute_result"
    }
   ],
   "source": [
    "s = 'agTtcAGtc'\n",
    "s.upper().count('gt'.upper()) #в строке s все символы становятся большими, после чего считается, сколько в такой строке встречается 'GT' (тоже ставшие большими после метода)"
   ]
  },
  {
   "cell_type": "markdown",
   "id": "6be6429a",
   "metadata": {},
   "source": [
    "Считаем процент C и G во введенной строке:"
   ]
  },
  {
   "cell_type": "code",
   "execution_count": 46,
   "id": "766c38ee",
   "metadata": {},
   "outputs": [
    {
     "name": "stdout",
     "output_type": "stream",
     "text": [
      "66.66666666666666\n"
     ]
    }
   ],
   "source": [
    "s = input()\n",
    "p = s.upper().count('c'.upper()) + s.upper().count('g'.upper())\n",
    "print((p / len(s)) * 100)"
   ]
  },
  {
   "cell_type": "markdown",
   "id": "e6b264d2",
   "metadata": {},
   "source": [
    "Slicing:"
   ]
  },
  {
   "cell_type": "code",
   "execution_count": null,
   "id": "239d2cfc",
   "metadata": {},
   "outputs": [],
   "source": [
    "dna = 'ATTCGGAGCT'\n",
    "dna[начало:конец:шаг] #общий вид\n",
    "dna[1] #T\n",
    "dna[1:4] #TTC, 4 не включается, поскольку правая граница интервала\n",
    "dna[:4] #ATTC, с самого начала по 4 индекс, не включая 4\n",
    "dna[4:] #GGAGCT, с 4 до последнего\n",
    "dna[-4] #AGCT, последние 4 символа\n",
    "dna[1:-1] #все, кроме первой и последней буквы\n",
    "dna[1:-1:2] #последнее число - шаг, то есть, это каждый второй символ от 2, до предпоследнего, TCGG\n",
    "dna[::-1] #указание отрицательного шага, все символы в обратном порядке"
   ]
  },
  {
   "cell_type": "markdown",
   "id": "a348d2df",
   "metadata": {},
   "source": [
    "Перевод последовательностей символов в подсчитанные - aabbb = a2b3:"
   ]
  },
  {
   "cell_type": "code",
   "execution_count": 61,
   "id": "402c5719",
   "metadata": {},
   "outputs": [
    {
     "name": "stdout",
     "output_type": "stream",
     "text": [
      "a2A2\n"
     ]
    }
   ],
   "source": [
    "s = input()\n",
    "ss = ''\n",
    "c = 1\n",
    "\n",
    "for i in range(len(s)):\n",
    "    if i == len(s)-1:\n",
    "        ss = ss + s[i] + str(c)\n",
    "        break\n",
    "    if s[i] == s[i+1]:\n",
    "        c += 1\n",
    "    else:\n",
    "        ss = ss + s[i] + str(c)\n",
    "        c = 1\n",
    "print(ss)\n",
    "#проблему с выходом за размер строки при проверке можно решить проще, написав s = input() + ' ', тогда он сравнит последний символ с пустотой и остановится"
   ]
  },
  {
   "cell_type": "markdown",
   "id": "5dba8653",
   "metadata": {},
   "source": [
    "Более изящное решение преподавателя:"
   ]
  },
  {
   "cell_type": "code",
   "execution_count": null,
   "id": "ced4f878",
   "metadata": {},
   "outputs": [],
   "source": [
    "genome = input()+' ' #чтоб не выйти за рамки строки в сравнении\n",
    "s = 0 #счетчик\n",
    "n=genome[0] #определитель символов\n",
    "for i in genome:       \n",
    "    if n!=i: #первая итерация цикла прибавит счетчику 1, после чего условие сработает\n",
    "        print(n + str(s), end = '') #вывод текущего символа со значением счетчика\n",
    "        s=0 #обнуление счетчика\n",
    "        n=i #обновление текущего символа\n",
    "    s+=1"
   ]
  },
  {
   "cell_type": "markdown",
   "id": "546972a0",
   "metadata": {},
   "source": [
    "Списки:"
   ]
  },
  {
   "cell_type": "code",
   "execution_count": 9,
   "id": "e19ff0ee",
   "metadata": {},
   "outputs": [
    {
     "name": "stdout",
     "output_type": "stream",
     "text": [
      "Ivan\n",
      "Alex\n",
      "Rot\n"
     ]
    }
   ],
   "source": [
    "students = [] #инициация пустого списка\n",
    "students = ['Ivan', 'Alex', 'Rot'] #инициация списка со значениями\n",
    "for i in students: #перебор всех значений списка через цикл\n",
    "    print(i)"
   ]
  },
  {
   "cell_type": "markdown",
   "id": "2220e2e3",
   "metadata": {},
   "source": [
    "Доступ к элементам списка:"
   ]
  },
  {
   "cell_type": "code",
   "execution_count": null,
   "id": "5aad7f83",
   "metadata": {},
   "outputs": [],
   "source": [
    "students[0] #первый элемент\n",
    "students[-1] #последний, все слайсы работают, в том числе и промежутки, и обратный шаг\n",
    "len(students) #выведет 3, ибо 3 элемента\n",
    "students[1] = 'Fill' #мы можем переназначать элементы списка не создавая нового"
   ]
  },
  {
   "cell_type": "markdown",
   "id": "683f7617",
   "metadata": {},
   "source": [
    "Операции со списками:"
   ]
  },
  {
   "cell_type": "code",
   "execution_count": null,
   "id": "8c4f9d8f",
   "metadata": {},
   "outputs": [],
   "source": [
    "students + list2 #идет сложение списков, как у строк, в конец первого добавляются значения второго, как третье, четвертое и т.д.\n",
    "students * 2 #перемножение как у строк, все элементы повторятся для нас несколько раз по-очереди\n",
    "#сами списки при этом не меняются, в выводе у нас третий список"
   ]
  },
  {
   "cell_type": "markdown",
   "id": "355153ae",
   "metadata": {},
   "source": [
    "Добавление элементов в список:"
   ]
  },
  {
   "cell_type": "code",
   "execution_count": 10,
   "id": "774b8958",
   "metadata": {},
   "outputs": [
    {
     "name": "stdout",
     "output_type": "stream",
     "text": [
      "['Ivan', 'Inga', 'Alex', 'Rot', 'Olga', 'Olga']\n"
     ]
    }
   ],
   "source": [
    "students.append('Olga') #добавление в конец списка нового элемента через метод\n",
    "students += ['Olga'] #добавление нового элемента через += (их может быть несколько, как список)\n",
    "#если написать students += 'Olga', то к нашему списку добавится строка 'Olga', а так как строки это, по своему, список из символов, то каждый символ станет отдельным элементом списка\n",
    "students.insert(1, 'Inga') #добавление нового элемента на позицию с индексом 1\n",
    "print(students)\n",
    "#при данных операциях изменяются сами списки"
   ]
  },
  {
   "cell_type": "markdown",
   "id": "ec84aa95",
   "metadata": {},
   "source": [
    "Удаление элементов из списка:"
   ]
  },
  {
   "cell_type": "code",
   "execution_count": 11,
   "id": "73f96125",
   "metadata": {},
   "outputs": [
    {
     "name": "stdout",
     "output_type": "stream",
     "text": [
      "['Inga', 'Alex', 'Rot', 'Olga']\n"
     ]
    }
   ],
   "source": [
    "students.remove('Olga') #удаление по содержанию, удаляет только одно, первое вхождение\n",
    "del students[0] #удаление по индексу\n",
    "print(students)"
   ]
  },
  {
   "cell_type": "markdown",
   "id": "cc0d2ce7",
   "metadata": {},
   "source": [
    "Проверка нахождения в списке:"
   ]
  },
  {
   "cell_type": "code",
   "execution_count": 12,
   "id": "e6735858",
   "metadata": {},
   "outputs": [
    {
     "name": "stdout",
     "output_type": "stream",
     "text": [
      "Yey\n",
      ":c\n"
     ]
    }
   ],
   "source": [
    "if 'Olga' in students: #проверка через if in\n",
    "    print('Yey')\n",
    "if 'Jack' not in students: #проверка отсутствия\n",
    "    print(':c')\n",
    "students.index('Olga') #вывод индекса указанного содержания, если такого имени в списке нет, выдает ошибку\n"
   ]
  },
  {
   "cell_type": "markdown",
   "id": "0a5645e2",
   "metadata": {},
   "source": [
    "Сортировка списка по алфавиту:"
   ]
  },
  {
   "cell_type": "code",
   "execution_count": null,
   "id": "d0fa82ee",
   "metadata": {},
   "outputs": [],
   "source": [
    "sorted(students) #функция сортирует список по алфавиту, но не изменяет его сам, только вывод\n",
    "min(students) #выводит первое значение по алфавиту\n",
    "max(students) #последнее\n",
    "students.sort() #метод, изменяющий сам список\n",
    "#при этом, все вышеперечисленное работает только со списками, состоящими из элементов одного типа данных, в противном случае выдается ошибка"
   ]
  },
  {
   "cell_type": "markdown",
   "id": "874ff554",
   "metadata": {},
   "source": [
    "Список в обратном порядке:"
   ]
  },
  {
   "cell_type": "code",
   "execution_count": null,
   "id": "66268f91",
   "metadata": {},
   "outputs": [],
   "source": [
    "reversed(students) #выдает список в обратном порядке, не изменяя его, то же самое через students[::-1]\n",
    "students.reverse() #изменяет сам список\n",
    "#таким образом, методы всегда меняют сам список, а функции создают измененные копии, которые можно хранить в перменных"
   ]
  },
  {
   "cell_type": "markdown",
   "id": "4eab4879",
   "metadata": {},
   "source": [
    "Особенности присвоения списков:"
   ]
  },
  {
   "cell_type": "markdown",
   "id": "796d811f",
   "metadata": {},
   "source": [
    "Когда создается список, он хранится в памяти компьютера, а переменная, в которой он создавался, \n",
    "(например, а) лишь отсылается на список, поэтому если написать b = a, и изменить элемент списка а, то и через b список будет изменен (в перменных хранится путь к списку, причем, после присвоения, переменные не связаны)\n",
    "Интересно, что изменив значение списка через b[2], он изменится и в а, несмотря на то, что именно а был исходником"
   ]
  },
  {
   "cell_type": "markdown",
   "id": "0209e61f",
   "metadata": {},
   "source": [
    "Генерация списков:"
   ]
  },
  {
   "cell_type": "code",
   "execution_count": null,
   "id": "ca44b09a",
   "metadata": {},
   "outputs": [],
   "source": [
    "a = [0] * 5 #создание списка из пяти нулей\n",
    "a = [0 for i in range(5)] #создание пяти нолей циклом\n",
    "a = [int(i) for i in input().split()] #получение списка из целочисленных значений, введенных строкой"
   ]
  },
  {
   "cell_type": "markdown",
   "id": "96852bfb",
   "metadata": {},
   "source": [
    "Программа, в которую вводится строка из чисел, а выводится строка, в которой все числа заменились на сумму соседей:"
   ]
  },
  {
   "cell_type": "code",
   "execution_count": 44,
   "id": "79b78f93",
   "metadata": {},
   "outputs": [
    {
     "name": "stdout",
     "output_type": "stream",
     "text": [
      "13 6 9 15 7 \n"
     ]
    }
   ],
   "source": [
    "a = [int(i) for i in input().split()]\n",
    "b = ''\n",
    "if len(a) == 1:\n",
    "    print(a[0])\n",
    "else:\n",
    "    for j in range(len(a)):\n",
    "        if j + 1 < len(a):\n",
    "            b += str(int(a[j - 1]) + int(a[j + 1])) + ' '\n",
    "        else:\n",
    "            b += str(int(a[j - 1]) + int(a[0])) + ' '\n",
    "    print(b)\n",
    "#ввод 1 3 5 6 10"
   ]
  },
  {
   "cell_type": "markdown",
   "id": "9331a04d",
   "metadata": {},
   "source": [
    "С чем можно было ее лучше решить:"
   ]
  },
  {
   "cell_type": "code",
   "execution_count": 45,
   "id": "a24f2041",
   "metadata": {},
   "outputs": [
    {
     "name": "stdout",
     "output_type": "stream",
     "text": [
      "1 2 3\n"
     ]
    }
   ],
   "source": [
    "a = [1, 2, 3]\n",
    "print(*a) #таким образом, можно вывести значения списка без [], разделенные пробелами"
   ]
  },
  {
   "cell_type": "markdown",
   "id": "26ebf0a7",
   "metadata": {},
   "source": [
    "Анализ входных чисел, выводятся те, которые встречаются несколько раз:"
   ]
  },
  {
   "cell_type": "code",
   "execution_count": 95,
   "id": "72c6cf49",
   "metadata": {},
   "outputs": [
    {
     "name": "stdout",
     "output_type": "stream",
     "text": [
      "1 2\n"
     ]
    }
   ],
   "source": [
    "a = [int(i) for i in input().split()]\n",
    "a.sort()\n",
    "b = []\n",
    "if len(a) > 1:\n",
    "    for k in range(len(a)):\n",
    "        if k + 1 < len(a):\n",
    "            if a[k] == a[k+1]:\n",
    "                if a[k] not in b:\n",
    "                    b.append(a[k])\n",
    "print(*b)"
   ]
  },
  {
   "cell_type": "markdown",
   "id": "2359cabb",
   "metadata": {},
   "source": [
    "Более изящное решение через count() (подсчитывает, сколько раз нечто встречается в строке):"
   ]
  },
  {
   "cell_type": "code",
   "execution_count": null,
   "id": "14ea63ca",
   "metadata": {},
   "outputs": [],
   "source": [
    "a, c = [str(i) for i in input().split()], []\n",
    "for i in a:\n",
    "    if i not in c and a.count(i) > 1:\n",
    "        c.append(i)\n",
    "        print(i, end=' ')"
   ]
  },
  {
   "cell_type": "markdown",
   "id": "dc47c379",
   "metadata": {},
   "source": [
    "Двумерные списки:"
   ]
  },
  {
   "cell_type": "code",
   "execution_count": null,
   "id": "62486aea",
   "metadata": {},
   "outputs": [],
   "source": [
    "a = [[1, 2, 3], [4, 5, 6], [7, 8, 9]] #двумерный список, хранящий в себе 3 списка (a[1][0] выдаст 4)\n",
    "a = [[0] * n for i in range(n)] #генерация списка циклами, список из n нулей n раз, через list comprehension\n",
    "a = [[0 for j in range(n)] for i in range(n)] #генерация списка циклами через вложенные конструкции"
   ]
  },
  {
   "cell_type": "code",
   "execution_count": 118,
   "id": "3359d053",
   "metadata": {},
   "outputs": [
    {
     "name": "stdout",
     "output_type": "stream",
     "text": [
      "1\n"
     ]
    }
   ],
   "source": [
    "a = [1, 1, 3, 1]\n",
    "print(a.index(1))"
   ]
  },
  {
   "cell_type": "code",
   "execution_count": 124,
   "id": "a8003052",
   "metadata": {},
   "outputs": [
    {
     "name": "stdout",
     "output_type": "stream",
     "text": [
      "Отсутствует\n"
     ]
    }
   ],
   "source": [
    "lst = [int(i) for i in input().split()]\n",
    "x = int(input())\n",
    "for i in range(len(lst)):\n",
    "    if x in lst:\n",
    "        if lst[i] == x:\n",
    "            print(i, end=' ')\n",
    "    else:\n",
    "        print('Отсутствует')\n",
    "        break"
   ]
  },
  {
   "cell_type": "markdown",
   "id": "ac5688ca",
   "metadata": {},
   "source": [
    "Самая сложная задача к этому моменту, вводится матрица произвольного размера, когда вводится end, выдает матрицу, где все значения заменены на сумму всех соседей:"
   ]
  },
  {
   "cell_type": "code",
   "execution_count": 2,
   "id": "ba68baba",
   "metadata": {},
   "outputs": [
    {
     "name": "stdout",
     "output_type": "stream",
     "text": [
      "4 4 \n",
      "4 4 \n"
     ]
    }
   ],
   "source": [
    "numbers = []\n",
    "inp = []\n",
    "check = 1\n",
    "while check:\n",
    "    for i in input().split(): #вместо такой сложной проверки можно было создать переменную с input(), а .split() применить потом к переменной при генерации списка #либо, как я и делал, но проверять не 'end', а ['end'], ибо проверяли список\n",
    "        if i == 'end':\n",
    "            check = 0\n",
    "            break\n",
    "        inp.append(int(i))\n",
    "    if check == 0:\n",
    "        break\n",
    "    numbers.append(inp)\n",
    "    inp = []\n",
    "\n",
    "for r in range(len(numbers)):\n",
    "    for c in range(len(numbers[r])):\n",
    "        print(numbers[r - 1][c] + numbers[(r + 1) % len(numbers)][c] + numbers[r][c - 1] + numbers[r][(c + 1) % len(numbers[r])], end=' ') #здесь идет исключение завышенных индексов, заметка ниже\n",
    "    print(end='\\n')"
   ]
  },
  {
   "cell_type": "markdown",
   "id": "c2791d89",
   "metadata": {},
   "source": [
    "Важная информация по работе со списками!\n",
    "Исключение завышенных индексов можно сделать двумя способами: путем получения остатка от деления на длину списка (r + 1) % len(numbers), но также это можно сделать вычитанием из индекса длинны списка, и только после этого добавлять единицу, тогда будет вычислена позиция с конца - вместо r + 1 (r - len(numbers) + 1), либо (r + 1 - len(numbers)) //судя по всему, такая проверка считается самой адекватной"
   ]
  },
  {
   "cell_type": "markdown",
   "id": "dd525362",
   "metadata": {},
   "source": [
    "Сложная задача на рисование матрицы из квадрата введенного числа, где отрисовка чисел идет по-очереди, по часовой стрелке (решал долго, но на форуме есть гораздо более продуманные и емкие решения):"
   ]
  },
  {
   "cell_type": "code",
   "execution_count": 3,
   "id": "7e166fa4",
   "metadata": {},
   "outputs": [
    {
     "name": "stdout",
     "output_type": "stream",
     "text": [
      "1 2 3 4 5\n",
      "16 17 18 19 6\n",
      "15 24 25 20 7\n",
      "14 23 22 21 8\n",
      "13 12 11 10 9\n"
     ]
    }
   ],
   "source": [
    "number = int(input())\n",
    "matrix = [[0 for i in range(number)] for j in range(number)]\n",
    "num = 1\n",
    "z = 0\n",
    "x = 1\n",
    "while num != number ** 2 + 1:\n",
    "    for i in range(z, number - z):\n",
    "        matrix[z][i] = num\n",
    "        num += 1\n",
    "    for i in range(z + 1, number - z):\n",
    "        matrix[i][number - (z + 1)] = num\n",
    "        num += 1\n",
    "    for i in range(z + 2, number + x):\n",
    "        matrix[number - (z + 1)][-i] = num\n",
    "        num += 1\n",
    "    for i in range(z + 2, number - z):\n",
    "        matrix[-i][z] = num\n",
    "        num += 1\n",
    "    z += 1\n",
    "    x -= 1\n",
    "for i in range(number):\n",
    "    print(*matrix[i])"
   ]
  },
  {
   "cell_type": "markdown",
   "id": "b5836e36",
   "metadata": {},
   "source": [
    "Инициализация функции:"
   ]
  },
  {
   "cell_type": "code",
   "execution_count": null,
   "id": "a4c4dccf",
   "metadata": {},
   "outputs": [],
   "source": [
    "def minim(a, b): #ключевое слово, имя, и аргументы на ввод, если они нужны\n",
    "    if a <= b:\n",
    "        return a #вывод значения в результате функции\n",
    "    else:\n",
    "        return b\n",
    "#вызов функции происходит после набора ее имени с нужным количеством аргументов\n",
    "#можно вызывать функцию в функции, например minim(minim(42, 30), 25) - выведется минимальное из трех чисел"
   ]
  },
  {
   "cell_type": "markdown",
   "id": "c7196ed9",
   "metadata": {},
   "source": [
    "Функция с произвольным количеством параметров (аргументов):"
   ]
  },
  {
   "cell_type": "code",
   "execution_count": null,
   "id": "5210c3a3",
   "metadata": {},
   "outputs": [],
   "source": [
    "def minimum(*a): #последовательность a\n",
    "    m = a[0] #берем первое значение введенной последовательности\n",
    "    for x in a: #проходим циклом по всей последовательности\n",
    "        if m > x: #находя число меньше того, что в m, присваиваем его m\n",
    "            m = x\n",
    "    return m"
   ]
  },
  {
   "cell_type": "markdown",
   "id": "b72c1c05",
   "metadata": {},
   "source": [
    "Функция со значениями по-умолчанию:"
   ]
  },
  {
   "cell_type": "code",
   "execution_count": null,
   "id": "924eee38",
   "metadata": {},
   "outputs": [],
   "source": [
    "#создаем свою функцию range(), но со списком на выводе\n",
    "def my_range(start, stop, step=1): #шаг по-умолчанию равен 1, но при вызове функции это значение можно изменить\n",
    "    res = [] #создаем список для записи значений\n",
    "    if step > 0:\n",
    "        x = start\n",
    "        while x < stop:\n",
    "            res += [x]\n",
    "            x += step\n",
    "    elif step < 0:\n",
    "        x = start\n",
    "        while x > stop:\n",
    "            res += [x]\n",
    "            x += step\n",
    "    return res\n",
    "#интересно то, что мы можем вызвать функцию и так: my_range(stop = 20, start = 5), явно указывая имена аргументов, тогда порядок ввода не важен"
   ]
  },
  {
   "cell_type": "markdown",
   "id": "9fa2d72e",
   "metadata": {},
   "source": [
    "Переменные в функции являются локальными, потому извне к ним обратиться нельзя (вне могут быть переменные с тем же именем, это разные переменные)\n",
    "Таким образом, изменение значений переменных в функции невозможно без return\n",
    "\n",
    "Если мы имеем дело с изменяемыми объектами, например, списками, мы можем добавлять и изменять их значения в функции (но надо помнить, что переменная - лишь ссылка на объект списка, поэтому изменени значения переменной не изменяет списка, оно изменяет связь переменной)\n",
    "\n",
    "Мы можем использовать глобальные переменные внутри функции, объявляя их вне функции\n",
    "Однако, если попытаться изменить значение глобальной переменной внутри функции, то она станет считаться локальной, и ссылка на нее перед этим изменением будет считаться ссылкой на несуществующую еще переменную"
   ]
  },
  {
   "cell_type": "markdown",
   "id": "2e9182ea",
   "metadata": {},
   "source": [
    "Функция, которая принимает как аргумент список, все четные числа делит на два, а не четные удаляет:"
   ]
  },
  {
   "cell_type": "code",
   "execution_count": 47,
   "id": "371e248b",
   "metadata": {},
   "outputs": [
    {
     "name": "stdout",
     "output_type": "stream",
     "text": [
      "[5, 4]\n"
     ]
    }
   ],
   "source": [
    "def modify_list(l):\n",
    "    z = 0\n",
    "    for x in range(len(l)):\n",
    "        if l[z] % 2 == 0:\n",
    "            l[z] = l[z] // 2\n",
    "            z += 1\n",
    "        else:\n",
    "            del l[z]"
   ]
  },
  {
   "cell_type": "markdown",
   "id": "f0ceb86e",
   "metadata": {},
   "source": [
    "Решение с форума, используется так называемый срез, от начала до конца:"
   ]
  },
  {
   "cell_type": "code",
   "execution_count": null,
   "metadata": {},
   "outputs": [],
   "source": [
    "def modify_list(l):\n",
    "    l[:] = [i//2 for i in l if i % 2 == 0] #заменяет объект списка на новый, в который добавляет только поделенные на 2 четные элементы\n",
    "#также можно было решить через reversed(), чтоб идти с конца значений"
   ]
  },
  {
   "cell_type": "markdown",
   "id": "56395bf6",
   "metadata": {},
   "source": [
    "Множества:"
   ]
  },
  {
   "cell_type": "code",
   "execution_count": 4,
   "id": "b936b859",
   "metadata": {},
   "outputs": [
    {
     "name": "stdout",
     "output_type": "stream",
     "text": [
      "{'banana', 'apple', 'pear', 'orange'}\n"
     ]
    }
   ],
   "source": [
    "s = set() #создать пустое множество (set - тип данных)\n",
    "basket = {'apple', 'orange', 'apple', 'pear', 'orange', 'banana'} #создание множества с элементами\n",
    "print(basket) #во множестве одинаковые элементы не хранятся, поэтому на выводе все повторящиеся убраны, порядок вывода также другой\n",
    "#проверку нахождения эдемента в множестве можно осуществить так же, как и со списком, через if in\n",
    "#перебор значений можно провести через for x in basket:"
   ]
  },
  {
   "cell_type": "markdown",
   "id": "f8d7591e",
   "metadata": {},
   "source": [
    "Операции с множествами:"
   ]
  },
  {
   "cell_type": "code",
   "execution_count": null,
   "id": "1625e9fc",
   "metadata": {},
   "outputs": [],
   "source": [
    "s.add('element') #добавить новый элемент в множество, если такой элемент в нем уже есть, ничего не произойдет\n",
    "s.remove('element') #удаление элемента из множества, если такого нет, выводится ошибка\n",
    "s.discard('element') #удаление элемента, но при отсутствии такого ошибка не выводится\n",
    "s.clear() #отчистить множество, сделав его пустым"
   ]
  },
  {
   "cell_type": "markdown",
   "id": "0964a819",
   "metadata": {},
   "source": [
    "Словари:"
   ]
  },
  {
   "cell_type": "code",
   "execution_count": null,
   "id": "f2463ab0",
   "metadata": {},
   "outputs": [],
   "source": [
    "d = dict() #инициализация пустого словаря\n",
    "d = {} #тоже самое\n",
    "d = {'a': 23, 'b': 45} #создание списка со значениями, слева от : ключ, или индекс, а справа - значение, которое хранится по этому ключу\n",
    "print(d['a']) #обращение к значению словаря, как и со списками, но индекс тут не всегда число\n",
    "#проверка нахождения в словаре if in, if not in по ключу\n"
   ]
  },
  {
   "cell_type": "markdown",
   "id": "cd121a55",
   "metadata": {},
   "source": [
    "Операции со словарями:"
   ]
  },
  {
   "cell_type": "code",
   "execution_count": null,
   "id": "70e22782",
   "metadata": {},
   "outputs": [],
   "source": [
    "d['key'] = 'value' #добавление в словарь новой пары ключ-значение\n",
    "d['key'] #обращение к значению, если его не существует, ошибка\n",
    "d.get('key') #получить значение по ключу, но в случае отсутствия такого выдает none вместо ошибки\n",
    "del d['key'] #удалить пару ключ-значение по ключу"
   ]
  },
  {
   "cell_type": "markdown",
   "id": "aabfede8",
   "metadata": {},
   "source": [
    "Словари изменяемы, как и списки, не имеют порядка, как множества, все ключи различны, при попытке создания новой пары с уже имеющимся ключом по нему просто изменится значение, ключи неизменяемы, и могут быть как строками, так и числами, но не списками или словарями\n",
    "Для хранения нескольких значений по ключу можно использовать списки, причем, получая к нему доступ по ключу, с ним можно делать что угодно, например добавлять новые значения"
   ]
  },
  {
   "cell_type": "markdown",
   "id": "f9998ab3",
   "metadata": {},
   "source": [
    "Перебор элементов словаря:"
   ]
  },
  {
   "cell_type": "code",
   "execution_count": null,
   "id": "d1689430",
   "metadata": {},
   "outputs": [],
   "source": [
    "for key in d:\n",
    "    print(key, end=' ')\n",
    "for key in d.keys():\n",
    "    print(key, end=' ')\n",
    "#оба цикла выведут все ключи словаря (вместо key в цикле может быть i, как всегда, это просто для понятности)\n",
    "for value in d.values():\n",
    "    print(value, end=' ')\n",
    "#выведет все значения словаря\n",
    "for key, value in d.items():\n",
    "    print(key, value, end='; ')\n",
    "#выведет все пары ключ-значения"
   ]
  },
  {
   "cell_type": "markdown",
   "id": "7ef02ec5",
   "metadata": {},
   "source": [
    "Файловый ввод:"
   ]
  },
  {
   "cell_type": "code",
   "execution_count": null,
   "id": "283314a0",
   "metadata": {},
   "outputs": [],
   "source": [
    "inf = open('file.txt', 'r') #открытие файла, сначала пишется путь до файла (или имя, если он в той же директории), далее параметры, r указывает конкретно команду открытия на чтение, но это дефолт, поэтому можно не указывать\n",
    "s1 = inf.readline() #сохраняет 1 строку в переменную\n",
    "s2 = inf.readline() #сохраняет вторую строку в переменную\n",
    "inf.close() #закрытие файла"
   ]
  },
  {
   "cell_type": "code",
   "execution_count": null,
   "id": "b16e9b68",
   "metadata": {},
   "outputs": [],
   "source": [
    "with open('text.txt') as inf:\n",
    "    s1 = inf.readline()\n",
    "    s2 = inf.readline()\n",
    "#то же самое, но через конструкцию with as, которая автоматически закрывает файл с концом блока"
   ]
  },
  {
   "cell_type": "markdown",
   "id": "985e2842",
   "metadata": {},
   "source": [
    "Полезные методы:"
   ]
  },
  {
   "cell_type": "code",
   "execution_count": null,
   "id": "d0e598c5",
   "metadata": {},
   "outputs": [],
   "source": [
    "inf.readline().strip() #убирает из строки все служебные символы, вроде \\n, чтоб остался только сам текст\n",
    "os.path.join('.', 'dirname', 'filename.txt') #выводит './dirname/filename.txt', работает только с модулем os, нужна для создания пути до файла в любой os (в linux /, в windows \\)"
   ]
  },
  {
   "cell_type": "markdown",
   "id": "dc495c24",
   "metadata": {},
   "source": [
    "Прочтение всего файла:"
   ]
  },
  {
   "cell_type": "code",
   "execution_count": null,
   "id": "767025b1",
   "metadata": {},
   "outputs": [],
   "source": [
    "with open('file.txt') as inf: #открываем файл\n",
    "    for line in inf: #через for итерируемся по всему файлу\n",
    "        line = line.strip() #убираем служебные символы\n",
    "        print(line) #выводим"
   ]
  },
  {
   "cell_type": "markdown",
   "id": "2270ec38",
   "metadata": {},
   "source": [
    "Файловый вывод:"
   ]
  },
  {
   "cell_type": "code",
   "execution_count": null,
   "id": "ec8fae6c",
   "metadata": {},
   "outputs": [],
   "source": [
    "with open('file.txt', 'w') as ouf: #открываем файл на запись через параметр w\n",
    "    ouf.write('Some text\\n') #записываем что-то в него, в отличии от print, мы сами должны переводить текст на новую строку\n",
    "    ouf.write(str(25)) #все записываемое должно быть конвертировано в строковые данные"
   ]
  },
  {
   "cell_type": "markdown",
   "id": "c80805cb",
   "metadata": {},
   "source": [
    "Достаточно корявый код, раскодирующий строку формы a3b2 в aaabb, строка из внешнего файла:"
   ]
  },
  {
   "cell_type": "code",
   "execution_count": 25,
   "id": "55753edf",
   "metadata": {},
   "outputs": [
    {
     "name": "stdout",
     "output_type": "stream",
     "text": [
      "dddddddddXXXXXlllllllllllllllllVVVVVVffffffffccccccccccccLLLLTTTTWWWWWWWWWWWWWWWWWWWWJJJJJJJJJJJJJJhhhhhhhhhhhhhhhhhllllllllllllllllpllllllllllllllllAAAAAAVVVVVIITTTTTTTTTTllPPPPPPPPPPyyyyyyyyyySSSSSSSSSSSQQQQQQQQQQQQQQQQQ\n"
     ]
    }
   ],
   "source": [
    "res = ''\n",
    "with open('E:\\Пользователь\\Загрузки\\dataset_3363_2.txt') as inp: #читаем файл\n",
    "    line = inp.readline()\n",
    "    for i in range(len(line)): #цикл длинной в прочитанную строку\n",
    "        if line[i].isdigit() and (line[i + 1].isdigit() == False and line[i - 1].isdigit() == False): #пропускаем первую букву, идем от числа назад, чтоб в конце не выйти за ренж строки\n",
    "            for k in range(int(line[i])):\n",
    "                res += line[i - 1]\n",
    "        elif line[i].isdigit() and line[i + 1].isdigit() and line[i - 1].isdigit() == False:\n",
    "            for k in range(int(line[i] + line[i + 1])):\n",
    "                res += line[i - 1]\n",
    "print(res)\n",
    "#метод .isdigit() проверяет, является ли строка числом, метод .isalpha() проверяет, является ли строка буквой"
   ]
  },
  {
   "cell_type": "markdown",
   "id": "0c8756a8",
   "metadata": {},
   "source": [
    "Считаем слова в файле, выводим самое частое слово и количество его повторений (вроде неплохо, два тома войны и мир за 0.1 секунду обработал):"
   ]
  },
  {
   "cell_type": "code",
   "execution_count": 45,
   "id": "33b9fff3",
   "metadata": {},
   "outputs": [
    {
     "name": "stdout",
     "output_type": "stream",
     "text": [
      "P 8\n"
     ]
    }
   ],
   "source": [
    "file = []\n",
    "res = {}\n",
    "x = 0\n",
    "with open('E:\\Пользователь\\Загрузки\\dataset_3363_3.txt') as inp: #читаем файл\n",
    "    for line in inp:\n",
    "        line = line.strip().upper().split()\n",
    "        file += line\n",
    "for i in file:\n",
    "    if i not in res:\n",
    "        res[i] = 1\n",
    "    else:\n",
    "        res[i] += 1\n",
    "for i in res.keys():\n",
    "        if res[i] == max(res.values()):\n",
    "            x = i\n",
    "            break\n",
    "print(x, max(res.values()))"
   ]
  },
  {
   "cell_type": "markdown",
   "id": "7ecb852b",
   "metadata": {},
   "source": [
    "Довольно классный получился код, считываем из файла базу вида имя;оценка1;2;3, считаем средний балл, а потом средний балл по предмету у всех студентов:"
   ]
  },
  {
   "cell_type": "code",
   "execution_count": 33,
   "id": "e8c18a16",
   "metadata": {},
   "outputs": [],
   "source": [
    "res = 0\n",
    "math = 0\n",
    "phys = 0\n",
    "russ = 0\n",
    "count = 0\n",
    "with open('E:\\Пользователь\\Загрузки\\dataset_3363_4.txt') as inp: #открываем на чтение\n",
    "    with open('E:\\Пользователь\\Загрузки\\data.txt', 'w') as ouf: #открываем на запись\n",
    "        for line in inp:\n",
    "            res = line.split(';') #выбираем ; как разделитель, чтоб исключить его и разделить строку на элементы, записываем список в переменную\n",
    "            math += int(res[1]) #просто будем добавлять баллы по каждому предмету в переменные, а в конце разделим на количество проходов счетчика\n",
    "            phys += int(res[2])\n",
    "            russ += int(res[3])\n",
    "            count += 1\n",
    "            ouf.write(str((int(res[1]) + int(res[2]) + int(res[3])) / 3) + '\\n') #записываем в файл средний балл\n",
    "        ouf.write(str(math / count) + ' ' + str(phys / count) + ' ' + str(russ / count))\n",
    "#with open('r') as inp, open('w') as out: - можно было объединить ввод и вывод так"
   ]
  },
  {
   "cell_type": "markdown",
   "id": "69b54f8e",
   "metadata": {},
   "source": [
    "Модули:"
   ]
  },
  {
   "cell_type": "code",
   "execution_count": null,
   "id": "bb3d9bd1",
   "metadata": {},
   "outputs": [],
   "source": [
    "import my_module #название модуля это обычно название файла, из которого мы что-то берем, как тут - my_module.py\n",
    "my_module.foo() #вызов функции, описанной в модуле (файле) как его метод\n",
    "\n",
    "from my_module import foo #иморт только одной функции из модуля\n",
    "foo() #так к ней можно обращаться по имени, а не через метод\n",
    "\n",
    "from my_module import * #импорт всего из модуля с их именами\n",
    "foo() #обращение по имени\n",
    "\n",
    "from my_module import foo as my_foo #импорт одной функции из модуля и смена ее имени здесь\n",
    "my_foo() #вызов по новому имени"
   ]
  },
  {
   "cell_type": "markdown",
   "id": "26c3b900",
   "metadata": {},
   "source": [
    "Модули стандартной библиотеки:"
   ]
  },
  {
   "cell_type": "markdown",
   "id": "61447385",
   "metadata": {},
   "source": [
    "Модуль sys:"
   ]
  },
  {
   "cell_type": "code",
   "execution_count": null,
   "id": "2641deb5",
   "metadata": {},
   "outputs": [],
   "source": [
    "sys.argv #список аргументов командной строки (список всех параметров запуска, например, python -h, как на bash)\n",
    "len(sys.argv) #выведет количество параметров (имя открываемой программы считается), потом можно обращаться к аргументам"
   ]
  },
  {
   "cell_type": "markdown",
   "id": "a8e7e958",
   "metadata": {},
   "source": [
    "Модуль subprocess:"
   ]
  },
  {
   "cell_type": "code",
   "execution_count": null,
   "id": "a61ba93d",
   "metadata": {},
   "outputs": [],
   "source": [
    "subprocess.call(args, *, stdin=None, stdout=None, stderr=None, shell=False, timeout=None) #в качестве аргументов принимает внешние программы, запускаемые в этой, \n",
    "subprocess.call(['python', '-h']) #запуск python с этим параметром выводит справку        #ввод и вывод результата их работы выводится как обычно, но можно изменить stdin, stdout и т.д."
   ]
  },
  {
   "cell_type": "markdown",
   "id": "5c6bc2ee",
   "metadata": {},
   "source": [
    "Использование модуля math для работы с пи и вычисления периметра круга:"
   ]
  },
  {
   "cell_type": "code",
   "execution_count": 6,
   "id": "8f2b39ce",
   "metadata": {},
   "outputs": [
    {
     "name": "stdout",
     "output_type": "stream",
     "text": [
      "62.83185307179586\n"
     ]
    }
   ],
   "source": [
    "import math #подключаем модули\n",
    "\n",
    "pi = math.pi #создаю переменную для удобства, чтоб не указывать имя модуля\n",
    "R = float(input()) #ввод везественного радиуса\n",
    "P = (2 * pi * R) #подсчитываем по формуле P = 2piR\n",
    "print(P)\n",
    "#в модуле math есть функция tau, возвращающая 2пи"
   ]
  },
  {
   "cell_type": "markdown",
   "id": "0063cfd7",
   "metadata": {},
   "source": [
    "Печать всех переданных аргументов запуска через консоль:"
   ]
  },
  {
   "cell_type": "code",
   "execution_count": null,
   "id": "32272dcf",
   "metadata": {},
   "outputs": [],
   "source": [
    "import sys\n",
    "print(*sys.argv[1:])"
   ]
  },
  {
   "cell_type": "markdown",
   "id": "271e5c74",
   "metadata": {},
   "source": [
    "Внешние библиотеки:"
   ]
  },
  {
   "cell_type": "code",
   "execution_count": null,
   "id": "c34a03b3",
   "metadata": {},
   "outputs": [],
   "source": [
    "pip install library #в консоли эта команда установит библиотеку через pip"
   ]
  },
  {
   "cell_type": "code",
   "execution_count": 8,
   "id": "4e1adf21",
   "metadata": {},
   "outputs": [
    {
     "name": "stdout",
     "output_type": "stream",
     "text": [
      "<!doctype html>\n",
      "<html>\n",
      "<head>\n",
      "    <title>Example Domain</title>\n",
      "\n",
      "    <meta charset=\"utf-8\" />\n",
      "    <meta http-equiv=\"Content-type\" content=\"text/html; charset=utf-8\" />\n",
      "    <meta name=\"viewport\" content=\"width=device-width, initial-scale=1\" />\n",
      "    <style type=\"text/css\">\n",
      "    body {\n",
      "        background-color: #f0f0f2;\n",
      "        margin: 0;\n",
      "        padding: 0;\n",
      "        font-family: -apple-system, system-ui, BlinkMacSystemFont, \"Segoe UI\", \"Open Sans\", \"Helvetica Neue\", Helvetica, Arial, sans-serif;\n",
      "        \n",
      "    }\n",
      "    div {\n",
      "        width: 600px;\n",
      "        margin: 5em auto;\n",
      "        padding: 2em;\n",
      "        background-color: #fdfdff;\n",
      "        border-radius: 0.5em;\n",
      "        box-shadow: 2px 3px 7px 2px rgba(0,0,0,0.02);\n",
      "    }\n",
      "    a:link, a:visited {\n",
      "        color: #38488f;\n",
      "        text-decoration: none;\n",
      "    }\n",
      "    @media (max-width: 700px) {\n",
      "        div {\n",
      "            margin: 0 auto;\n",
      "            width: auto;\n",
      "        }\n",
      "    }\n",
      "    </style>    \n",
      "</head>\n",
      "\n",
      "<body>\n",
      "<div>\n",
      "    <h1>Example Domain</h1>\n",
      "    <p>This domain is for use in illustrative examples in documents. You may use this\n",
      "    domain in literature without prior coordination or asking for permission.</p>\n",
      "    <p><a href=\"https://www.iana.org/domains/example\">More information...</a></p>\n",
      "</div>\n",
      "</body>\n",
      "</html>\n",
      "\n"
     ]
    }
   ],
   "source": [
    "import requests #обращение к новой библиотеке для работы с запросами\n",
    "print(requests.get('http://example.com').text) #сошласно доументации библиотеки, у нас тут простой get-запрос, и печать содержимого страницы в виде текста через метод .text"
   ]
  },
  {
   "cell_type": "code",
   "execution_count": 9,
   "id": "a5eee08e",
   "metadata": {},
   "outputs": [
    {
     "name": "stdout",
     "output_type": "stream",
     "text": [
      "http://example.com/?key1=value1&key2=value2\n"
     ]
    }
   ],
   "source": [
    "url = 'http://example.com' #созраняем адрес в переменной\n",
    "par = {'key1': 'value1', 'key2': 'value2'} #создаем список параметров\n",
    "r = requests.get(url, params=par) #передаем параметры в get-запрос\n",
    "print(r.url) #печатаем новый адрес с учетом параметров get-запроса\n",
    "#cookies тоже добавляются в get-запрос через словарь\n",
    "cookies = {'cookies_are': 'working'}\n",
    "r = requests.get(url, cookies=cookies)\n",
    "\n",
    "print(r.cookies['example_cookie_name']) #использование cookies, полученных от сервера"
   ]
  },
  {
   "cell_type": "markdown",
   "id": "633a2450",
   "metadata": {},
   "source": [
    "Скачиваем файл по ссылке, считаем количество строк в нем:"
   ]
  },
  {
   "cell_type": "code",
   "execution_count": 12,
   "id": "5ace8a53",
   "metadata": {},
   "outputs": [
    {
     "name": "stdout",
     "output_type": "stream",
     "text": [
      "113\n"
     ]
    }
   ],
   "source": [
    "r = requests.get('https://stepic.org/media/attachments/course67/3.6.2/626.txt')\n",
    "print(len(r.text.splitlines())) #метод .splitlines() разбивает текст на список, где каждая строка - элемент списка"
   ]
  },
  {
   "cell_type": "markdown",
   "id": "827f2741",
   "metadata": {},
   "source": [
    "Задание на чтение кучи файлов, в каждом из которых имя следующего, что приводит к тексту:"
   ]
  },
  {
   "cell_type": "code",
   "execution_count": 28,
   "id": "807e82a4",
   "metadata": {},
   "outputs": [
    {
     "name": "stdout",
     "output_type": "stream",
     "text": [
      "We are the champions, my friends,\n",
      "And we'll keep on fighting 'til the end.\n",
      "We are the champions.\n",
      "We are the champions.\n",
      "No time for losers\n",
      "'Cause we are the champions of the world.\n"
     ]
    }
   ],
   "source": [
    "file = '699991.txt'\n",
    "while 'We' not in file:\n",
    "    url = 'https://stepic.org/media/attachments/course67/3.6.3/' + file\n",
    "    r = requests.get(url)\n",
    "    file = r.text\n",
    "print(file)"
   ]
  },
  {
   "cell_type": "markdown",
   "id": "1aed212a",
   "metadata": {},
   "source": [
    "Вводится количество матчей, а потом команда1;кол-во голов;команда2;кол-во голов, выводится результат всех команд: кол-во игр, победы, ничьи, поражения, баллы:"
   ]
  },
  {
   "cell_type": "code",
   "execution_count": 22,
   "id": "4b3d639b",
   "metadata": {},
   "outputs": [
    {
     "name": "stdout",
     "output_type": "stream",
     "text": [
      "Спартак: 2 0 0 2 0\n",
      "Зенит: 2 1 0 1 3\n",
      "Локомотив: 2 2 0 0 6\n"
     ]
    }
   ],
   "source": [
    "net = {}\n",
    "for i in range(int(input())): #делаем это n раз\n",
    "    match = input().split(';') #вводится стандартизированная строка, мы ее разбиваем на 4 элемента в списке\n",
    "    if match[0] not in net: #если первая команда еще не в словаре\n",
    "        net[match[0]] = [1] #добавляем количество матчей, начиная с единицы\n",
    "        net[match[0]] += [0] * 4 #добавляем в список еще 4 нулевых элемента для подсчета результатов команды\n",
    "    else:\n",
    "        net[match[0]][0] += 1 #добавляем повторно 1 к кол-ву матчей, если такое имя уже есть в словаре\n",
    "    if match[2] not in net: #все то же самое для второй команды\n",
    "        net[match[2]] = [1]\n",
    "        net[match[2]] += [0] * 4\n",
    "    else:\n",
    "        net[match[2]][0] += 1\n",
    "    \n",
    "    if int(match[1]) > int(match[3]): #если у первой команды больше голов, чем у второй\n",
    "        net[match[0]][1] += 1 #плюс один к счетчику побед\n",
    "        net[match[2]][3] += 1 #плюс один к счетчику поражений второй команды\n",
    "        net[match[0]][4] += 3 #плюс 3 балла первой команде за победу\n",
    "    elif int(match[1]) < int(match[3]): #все то же, но наоборот\n",
    "        net[match[2]][1] += 1\n",
    "        net[match[0]][3] += 1\n",
    "        net[match[2]][4] += 3\n",
    "    else:\n",
    "        net[match[0]][2] += 1 #вариант ничьей, всем командам по баллу, всем плюс 1 к счетчику ничьих\n",
    "        net[match[0]][4] += 1\n",
    "        net[match[2]][2] += 1\n",
    "        net[match[2]][4] += 1\n",
    "for i, j in net.items(): #читаем словарь и выводим все ключи со всеми их значениями\n",
    "    print(i + ':', *j)"
   ]
  },
  {
   "cell_type": "markdown",
   "id": "9d7b3034",
   "metadata": {},
   "source": [
    "Вводится строчка, потом такой же длины вторая, символы одной должны быть заменены на символы второй, потом пишется две строки, сначала та, которую надо зашифровать, потом которую надо расшифровать:"
   ]
  },
  {
   "cell_type": "code",
   "execution_count": 31,
   "id": "8ae9c7a5",
   "metadata": {},
   "outputs": [
    {
     "name": "stdout",
     "output_type": "stream",
     "text": [
      "rewq\n",
      "qwer\n"
     ]
    }
   ],
   "source": [
    "origin, owari, inp, out = input(), input(), input(), input()\n",
    "res1 = ''\n",
    "res2 = ''\n",
    "cript = {}\n",
    "for i in range(len(origin)): #создание дешифратора\n",
    "    cript[origin[i]] = owari[i]\n",
    "for k in inp:\n",
    "    k = cript[k]\n",
    "    res1 += k\n",
    "for j in out:\n",
    "    for n, m in cript.items():\n",
    "        if m == j:\n",
    "            j = n\n",
    "            res2 += j\n",
    "            break\n",
    "print(res1, res2, sep='\\n')\n",
    "#мое решение может быть не слишком оптимальным по затратам памяти, но читаемым"
   ]
  },
  {
   "cell_type": "code",
   "execution_count": 38,
   "id": "54d0fddd",
   "metadata": {},
   "outputs": [
    {
     "name": "stdout",
     "output_type": "stream",
     "text": [
      "rewq\n",
      "qwer\n"
     ]
    }
   ],
   "source": [
    "origin, owari, inp, out = input(), input(), input(), input()\n",
    "print(*[owari[origin.index(i)] for i in inp], sep='') #циклом перебираем все символы inp, узнаем индекс origin для этих символов, печатаем элемент owari с этим индексом, все эти элементы у нас в списке, так как работает цикл\n",
    "print(*[origin[owari.index(i)] for i in out], sep='')\n",
    "#оптимальное по затратам памяти, но трудночитаемое решение"
   ]
  },
  {
   "cell_type": "markdown",
   "id": "d875fd05",
   "metadata": {},
   "source": [
    "Формируем пул слов, потом вводим предложения, если в предложении используются слова не из пула, выводим их:"
   ]
  },
  {
   "cell_type": "code",
   "execution_count": 10,
   "id": "e331251d",
   "metadata": {},
   "outputs": [
    {
     "name": "stdout",
     "output_type": "stream",
     "text": [
      "champignons\n",
      "the\n",
      "stepic\n"
     ]
    }
   ],
   "source": [
    "n = int(input())\n",
    "words = []\n",
    "sent = []\n",
    "mist = set()\n",
    "for i in range(n):\n",
    "    words += input().lower().split()\n",
    "nn = int(input())\n",
    "for k in range(nn):\n",
    "    sent += input().lower().split()\n",
    "for j in sent:\n",
    "    if j not in words:\n",
    "        mist.add(j)\n",
    "print(*mist, sep='\\n')"
   ]
  },
  {
   "cell_type": "markdown",
   "id": "485ff891",
   "metadata": {},
   "source": [
    "Черепахе подаются команды с направлением и количеством шагов, нужно посчитать, где она окажется после ряда команд, если отправная точка координат 0, 0:"
   ]
  },
  {
   "cell_type": "code",
   "execution_count": 11,
   "id": "d5cf6e99",
   "metadata": {},
   "outputs": [
    {
     "name": "stdout",
     "output_type": "stream",
     "text": [
      "20 -20\n"
     ]
    }
   ],
   "source": [
    "n = int(input())\n",
    "loc = [0, 0]\n",
    "for i in range(n):\n",
    "    direct = input().split()\n",
    "    if 'север' in direct:\n",
    "        loc[1] += int(direct[1])\n",
    "    elif 'запад' in direct:\n",
    "        loc[0] -= int(direct[1])\n",
    "    elif 'юг' in direct:\n",
    "        loc[1] -= int(direct[1])\n",
    "    elif 'восток' in direct:\n",
    "        loc[0] += int(direct[1])\n",
    "print(*loc)\n",
    "#можно было через создание словаря с направлениями и изменение их значений, так code complexity ниже"
   ]
  },
  {
   "cell_type": "markdown",
   "id": "0a6dfad8",
   "metadata": {},
   "source": [
    "На вход подается таблица TSV (разделение табуляцией) с информацией о классе, фамилии и росте ученика, нужно вывести средний рост по классу:"
   ]
  },
  {
   "cell_type": "code",
   "execution_count": 38,
   "id": "45710676",
   "metadata": {},
   "outputs": [
    {
     "name": "stdout",
     "output_type": "stream",
     "text": [
      "1 126.0\n",
      "2 130.0\n",
      "3 134.41666666666666\n",
      "4 140.66666666666666\n",
      "5 145.4\n",
      "6 155.44444444444446\n",
      "7 160.11111111111111\n",
      "8 164.3125\n",
      "9 169.55555555555554\n",
      "10 170.72727272727272\n",
      "11 174.6\n"
     ]
    }
   ],
   "source": [
    "students = {}\n",
    "with open('E:\\Пользователь\\Загрузки\\dataset_3380_5.txt') as inp:\n",
    "    for line in inp:\n",
    "        line = line.strip().split('\\t')\n",
    "        line = [int(line[0]), int(line[2])]\n",
    "        if line[0] not in students:\n",
    "            students[line[0]] = [line[1]]\n",
    "        else:\n",
    "            students[line[0]] += [line[1]]\n",
    "for k in range(1, 12):\n",
    "    students[k] = sum(students[k]) / len(students[k])\n",
    "for i in range(1, 12):\n",
    "    print(i, '-' if i not in students else students[i])"
   ]
  },
  {
   "cell_type": "markdown",
   "id": "6081afac",
   "metadata": {},
   "source": [
    "Что я узнал - если у нас есть список, например, line в файле, мы можем ее разбить на переменные сразу:\n",
    "cls, name, height = line.strip().split('\\t')"
   ]
  },
  {
   "cell_type": "markdown",
   "id": "b0008cf3",
   "metadata": {},
   "source": [
    "Список модулей анализа данных:"
   ]
  },
  {
   "cell_type": "code",
   "execution_count": null,
   "id": "066069b1",
   "metadata": {},
   "outputs": [],
   "source": [
    "NumPy #работа с большими числовыми массивами\n",
    "matplotlib #построение графиков\n",
    "SciPy #функции для научных вычислений\n",
    "pandas #таблицы (как matrix и data.frame в R)\n",
    "Scikit-learn #алгоритмы машинного обучения\n",
    "PythonSeaborn #визуализация статистических данных"
   ]
  },
  {
   "cell_type": "markdown",
   "id": "09659318",
   "metadata": {},
   "source": [
    "Подробнее по NumPy:"
   ]
  },
  {
   "cell_type": "code",
   "execution_count": null,
   "id": "43fe40f1",
   "metadata": {},
   "outputs": [],
   "source": [
    "from numpy import *\n",
    "a = array([2, 3, 4]) #массив - основной тип данных этой библиотеки, как списки, но может хранить только один тип данных\n",
    "a.ndim #выводит количество измерений массива\n",
    "a.shape #выводит размеры массива - число строк, столбцов и т.д. (второе - количество элементов в строке)\n",
    "b = array([(1.5, 2, 3), (4, 5, 6)]) #создание двумерного массива, из-за того, что первое число вещественное, остальные также конвертируются\n",
    "b.size #выводит общее количество элементов\n",
    "z = zeros((3, 2)) #создает двумерный массив, наполненный нулями, с тремя строками по 2 элемента\n",
    "arange(10, 30, 5) #создает массив из чисел от 10 до 30, с шагов в 5 - 10, 15, 20, 25 (аналогична range, но возвращает массив)\n",
    "linspace(0, 2, 9) #работает также, удобно для вещественных чисел, генерирует массив из 9 элементов на отрезке от 0 до 2 включительно\n",
    "b = arange(12).reshape(4, 3) #создается массив из чисел от 0 до 11, но метод изменяет форму массива на двумерный, и делит его на 4 строки по 3 элемента\n",
    "a + b #складывая или отнимая массивы, операции производятся над числами одинаковых индексов - a[0] + b[0], a[1] + b[1] и т.д.\n",
    "a ** 2 #возводит каждый элемент массива в квадрат\n",
    "2 * sin(a) #используя массив как аргумент функции, принимающей одно число, мы применяем ее к каждому элементу массива\n",
    "a < 20 #сравнение происходит с каждым элементов, и если возвращается одна правда и две лжи, это ложь"
   ]
  },
  {
   "cell_type": "markdown",
   "id": "8cf92f8e",
   "metadata": {},
   "source": [
    "Больше о matplotlib:"
   ]
  },
  {
   "cell_type": "code",
   "execution_count": 6,
   "id": "6dcacd23",
   "metadata": {},
   "outputs": [
    {
     "data": {
      "image/png": "[encoded data removed]",
      "text/plain": [
       "<Figure size 432x288 with 1 Axes>"
      ]
     },
     "metadata": {
      "needs_background": "light"
     },
     "output_type": "display_data"
    }
   ],
   "source": [
    "from pylab import *\n",
    "x = linspace(0, 5, 10) #создается массив из 10 чисел\n",
    "y = x ** 2 #создается массив из 10 чисел x в квадрате\n",
    "\n",
    "figure() #начало построения графика\n",
    "plot(x, y, 'r') #передаем значения одинакового размера, 'r' - рисует красным\n",
    "xlabel('x') #название оси х\n",
    "ylabel('y')\n",
    "title('title') #заголовок\n",
    "show()"
   ]
  },
  {
   "cell_type": "markdown",
   "id": "3aa1a45b",
   "metadata": {},
   "source": [
    "Другие способы строить графики в matplotlib:"
   ]
  },
  {
   "cell_type": "code",
   "execution_count": 16,
   "id": "9c89e300",
   "metadata": {},
   "outputs": [
    {
     "data": {
      "image/png": "[encoded data removed]",
      "text/plain": [
       "<Figure size 432x288 with 1 Axes>"
      ]
     },
     "metadata": {
      "needs_background": "light"
     },
     "output_type": "display_data"
    }
   ],
   "source": [
    "fig = plt.figure() #начало рисования\n",
    "\n",
    "axes = fig.add_axes([0.1, 0.1, 0.8, 0.8]) #лево, низ, ширина, высота (от 0 до 1), 0.8 тут - 80% пространства под график, остальное под подписи, 0.1, 0.1 - начало линии в 10% от левого и нижнего краев\n",
    "\n",
    "axes.plot(x, y, 'r') #указываем значения и цвет\n",
    "axes.set_xlabel('x')\n",
    "axes.set_ylabel('y')\n",
    "axes.set_title('title'); #чтоб не писалась сверху системная строка, ставим ; в конце"
   ]
  },
  {
   "cell_type": "code",
   "execution_count": 15,
   "id": "ba1a958b",
   "metadata": {},
   "outputs": [
    {
     "data": {
      "image/png": "[encoded data removed]",
      "text/plain": [
       "<Figure size 432x288 with 2 Axes>"
      ]
     },
     "metadata": {
      "needs_background": "light"
     },
     "output_type": "display_data"
    }
   ],
   "source": [
    "fig = plt.figure() #начало рисования\n",
    "\n",
    "axes1 = fig.add_axes([0.1, 0.1, 0.8, 0.8]) #лево, низ, ширина, высота (от 0 до 1), 0.8 тут - 80% пространства под график, остальное под подписи, 0.1, 0.1 - начало линии в 10% от левого и нижнего краев\n",
    "axes2 = fig.add_axes([0.2, 0.5, 0.4, 0.3]) #20% от левого края, 50 снизу (середина)\n",
    "\n",
    "#main plot\n",
    "axes1.plot(x, y, 'r') #указываем значения и цвет\n",
    "axes1.set_xlabel('x')\n",
    "axes1.set_ylabel('y')\n",
    "axes1.set_title('title')\n",
    "\n",
    "#insert plot\n",
    "axes2.plot(y, x, 'g') #меняем x и y местами, переворачивая график, цвет зеленый\n",
    "axes2.set_xlabel('y')\n",
    "axes2.set_ylabel('x')\n",
    "axes2.set_title('insert title');"
   ]
  },
  {
   "cell_type": "code",
   "execution_count": 20,
   "id": "d4aa3f4b",
   "metadata": {},
   "outputs": [
    {
     "data": {
      "image/png": "[encoded data removed]",
      "text/plain": [
       "<Figure size 864x216 with 2 Axes>"
      ]
     },
     "metadata": {
      "needs_background": "light"
     },
     "output_type": "display_data"
    }
   ],
   "source": [
    "fig, axes = plt.subplots(nrows = 1, ncols = 2, figsize=(12,3)) #метод позволяет рисовать два графика сразу, в одну строку 2 графика; #plt.subplots(figsize=(12,3)) - указание размера в дюймах, тут он растянется в ширь\n",
    "\n",
    "for ax in axes:\n",
    "    ax.plot(x, y, 'r', label='first') #label - указание подписи для линии в легенде\n",
    "    ax.legend(loc=2) #размещение легенды, 2 - верхний левый угол\n",
    "    ax.set_xlabel('x')\n",
    "    ax.set_ylabel('y')\n",
    "    ax.set_title('title')\n",
    "fig.tight_layout() #чтобы графики не пересекались\n",
    "#тут графики одинаковые, но если бы у нас были значения в двумерных массивах, рисовался бы сначала график по значениям одного подмассива, потом остальных"
   ]
  },
  {
   "cell_type": "code",
   "execution_count": null,
   "id": "900f206a",
   "metadata": {},
   "outputs": [],
   "source": [
    "n = random.randn(100000) #функция из numpy, генерация 100000 случайных чисел\n",
    "ax.hist(n, cumulative=True, bins=50) #вместо plot, для построения гистограммы, второй аргумент для построения гистограммы другого типа из 50 столбцов, без них обычная\n",
    "ax.set_xlim((min(n), max(n))) #явное указание пределов оси"
   ]
  }
 ],
 "metadata": {
  "interpreter": {
   "hash": "dc87c2fbff7110ffc1210c6413e386a15ebd5583e68abd9bd93395f501f13f7e"
  },
  "kernelspec": {
   "display_name": "Python 3.10.4 64-bit",
   "language": "python",
   "name": "python3"
  },
  "language_info": {
   "codemirror_mode": {
    "name": "ipython",
    "version": 3
   },
   "file_extension": ".py",
   "mimetype": "text/x-python",
   "name": "python",
   "nbconvert_exporter": "python",
   "pygments_lexer": "ipython3",
   "version": "3.10.4"
  }
 },
 "nbformat": 4,
 "nbformat_minor": 5
}
